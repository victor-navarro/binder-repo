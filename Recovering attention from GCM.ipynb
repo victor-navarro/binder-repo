{
 "cells": [
  {
   "cell_type": "markdown",
   "metadata": {},
   "source": [
    "# Creating the task\n",
    "Let's start by creating simple, binary-valued, 3-dimensional categories. (In reality, the stimuli we used were 7-dimensional).\n",
    "The trick here is to make one dimension perfectly informative of category membership, but the other two, less so."
   ]
  },
  {
   "cell_type": "code",
   "execution_count": 1,
   "metadata": {},
   "outputs": [
    {
     "data": {
      "text/html": [
       "<table>\n",
       "<caption>A data.frame: 6 × 4</caption>\n",
       "<thead>\n",
       "\t<tr><th></th><th scope=col>Var1</th><th scope=col>Var2</th><th scope=col>Var3</th><th scope=col>cat</th></tr>\n",
       "\t<tr><th></th><th scope=col>&lt;int&gt;</th><th scope=col>&lt;int&gt;</th><th scope=col>&lt;int&gt;</th><th scope=col>&lt;int&gt;</th></tr>\n",
       "</thead>\n",
       "<tbody>\n",
       "\t<tr><th scope=row>1</th><td>0</td><td>0</td><td>0</td><td>0</td></tr>\n",
       "\t<tr><th scope=row>2</th><td>1</td><td>0</td><td>0</td><td>0</td></tr>\n",
       "\t<tr><th scope=row>3</th><td>0</td><td>1</td><td>0</td><td>0</td></tr>\n",
       "\t<tr><th scope=row>6</th><td>1</td><td>0</td><td>1</td><td>1</td></tr>\n",
       "\t<tr><th scope=row>7</th><td>0</td><td>1</td><td>1</td><td>1</td></tr>\n",
       "\t<tr><th scope=row>8</th><td>1</td><td>1</td><td>1</td><td>1</td></tr>\n",
       "</tbody>\n",
       "</table>\n"
      ],
      "text/latex": [
       "A data.frame: 6 × 4\n",
       "\\begin{tabular}{r|llll}\n",
       "  & Var1 & Var2 & Var3 & cat\\\\\n",
       "  & <int> & <int> & <int> & <int>\\\\\n",
       "\\hline\n",
       "\t1 & 0 & 0 & 0 & 0\\\\\n",
       "\t2 & 1 & 0 & 0 & 0\\\\\n",
       "\t3 & 0 & 1 & 0 & 0\\\\\n",
       "\t6 & 1 & 0 & 1 & 1\\\\\n",
       "\t7 & 0 & 1 & 1 & 1\\\\\n",
       "\t8 & 1 & 1 & 1 & 1\\\\\n",
       "\\end{tabular}\n"
      ],
      "text/markdown": [
       "\n",
       "A data.frame: 6 × 4\n",
       "\n",
       "| <!--/--> | Var1 &lt;int&gt; | Var2 &lt;int&gt; | Var3 &lt;int&gt; | cat &lt;int&gt; |\n",
       "|---|---|---|---|---|\n",
       "| 1 | 0 | 0 | 0 | 0 |\n",
       "| 2 | 1 | 0 | 0 | 0 |\n",
       "| 3 | 0 | 1 | 0 | 0 |\n",
       "| 6 | 1 | 0 | 1 | 1 |\n",
       "| 7 | 0 | 1 | 1 | 1 |\n",
       "| 8 | 1 | 1 | 1 | 1 |\n",
       "\n"
      ],
      "text/plain": [
       "  Var1 Var2 Var3 cat\n",
       "1 0    0    0    0  \n",
       "2 1    0    0    0  \n",
       "3 0    1    0    0  \n",
       "6 1    0    1    1  \n",
       "7 0    1    1    1  \n",
       "8 1    1    1    1  "
      ]
     },
     "metadata": {},
     "output_type": "display_data"
    }
   ],
   "source": [
    "stims = expand.grid(0:1, 0:1, 0:1)\n",
    "stims$cat = stims[, 3]\n",
    "stims = stims[-c(4, 5), ] #getting rid of a couple of stimuli we attain our goal\n",
    "stims"
   ]
  },
  {
   "cell_type": "code",
   "execution_count": 2,
   "metadata": {},
   "outputs": [
    {
     "data": {
      "text/html": [
       "<style>\n",
       ".dl-inline {width: auto; margin:0; padding: 0}\n",
       ".dl-inline>dt, .dl-inline>dd {float: none; width: auto; display: inline-block}\n",
       ".dl-inline>dt::after {content: \":\\0020\"; padding-right: .5ex}\n",
       ".dl-inline>dt:not(:first-of-type) {padding-left: .5ex}\n",
       "</style><dl class=dl-inline><dt>Var1</dt><dd>0.333333333333333</dd><dt>Var2</dt><dd>0.333333333333333</dd><dt>Var3</dt><dd>1</dd></dl>\n"
      ],
      "text/latex": [
       "\\begin{description*}\n",
       "\\item[Var1] 0.333333333333333\n",
       "\\item[Var2] 0.333333333333333\n",
       "\\item[Var3] 1\n",
       "\\end{description*}\n"
      ],
      "text/markdown": [
       "Var1\n",
       ":   0.333333333333333Var2\n",
       ":   0.333333333333333Var3\n",
       ":   1\n",
       "\n"
      ],
      "text/plain": [
       "     Var1      Var2      Var3 \n",
       "0.3333333 0.3333333 1.0000000 "
      ]
     },
     "metadata": {},
     "output_type": "display_data"
    }
   ],
   "source": [
    "#Check cue validity\n",
    "apply(stims[, 1:3], 2, function(x) cor(x, stims$cat))"
   ]
  },
  {
   "cell_type": "markdown",
   "metadata": {},
   "source": [
    "# Defining GCM\n",
    "Now we define the model per se. You can consult any Nosofsky paper if you have trouble following these function definitions.\n",
    "First, a weighted Minkowski distance function:"
   ]
  },
  {
   "cell_type": "code",
   "execution_count": 3,
   "metadata": {},
   "outputs": [],
   "source": [
    "minkdist = function(a, b, w = rep(1/length(a), length(a)), p = 1){\n",
    "  return(sum((w*abs(a-b)^p)^1/p))\n",
    "}"
   ]
  },
  {
   "cell_type": "markdown",
   "metadata": {},
   "source": [
    "Where p is the distance metric, and w is a vector weighing the distance along dimensions. Psychological distance is a key concept in the model. The activation of exemplars in memory is inversely related to the psychological distance between them and the stimulus being presented. Here's the function that formalizes that idea:"
   ]
  },
  {
   "cell_type": "code",
   "execution_count": 4,
   "metadata": {},
   "outputs": [],
   "source": [
    "act = function(dists, sens){\n",
    "  return(exp(-sens*dists)) #A common choice is to use a Gaussian function for generalization. Here we stick to the classics.\n",
    "}"
   ]
  },
  {
   "cell_type": "markdown",
   "metadata": {},
   "source": [
    "Finally, we define a choice mapping function. A common choice is the softmax. Here, we use the ratio between the overall activation of each category (I've always hated that detail)."
   ]
  },
  {
   "cell_type": "code",
   "execution_count": 5,
   "metadata": {},
   "outputs": [],
   "source": [
    "catresp = function(acts, cats, temp){\n",
    "  return(sum(acts[cats == 1])^temp/((sum(acts[cats == 1])^temp)+(sum(acts[cats==0])^temp)))\n",
    "}\n"
   ]
  },
  {
   "cell_type": "markdown",
   "metadata": {},
   "source": [
    "Where temp is the \"temperature\" of the mapping. Smaller is more probabilistic, larger is more deterministic.\n",
    "As the relation between distance and activation is such a key concept, it doesn't hurt to have it visualized."
   ]
  },
  {
   "cell_type": "code",
   "execution_count": 6,
   "metadata": {},
   "outputs": [
    {
     "name": "stderr",
     "output_type": "stream",
     "text": [
      "Warning message:\n",
      "\"package 'ggplot2' was built under R version 3.6.3\"\n"
     ]
    },
    {
     "data": {
      "image/png": "[encoded data removed]",
      "text/plain": [
       "plot without title"
      ]
     },
     "metadata": {
      "image/png": {
       "height": 420,
       "width": 420
      }
     },
     "output_type": "display_data"
    },
    {
     "data": {
      "image/png": "[encoded data removed]",
      "text/plain": [
       "plot without title"
      ]
     },
     "metadata": {
      "image/png": {
       "height": 420,
       "width": 420
      }
     },
     "output_type": "display_data"
    }
   ],
   "source": [
    "#Visualization of distance and similarity\n",
    "ps = expand.grid(seq(-1, 1, .1), seq(-1, 1, .1))\n",
    "ps$dist = apply(ps, 1, function(x) minkdist(x, c(0, 0), w = c(.5, .5), p = 1))\n",
    "library(ggplot2)\n",
    "ggplot(ps, aes(x = Var1, y = Var2, fill = dist)) + geom_tile() + labs(title = 'Distance')\n",
    "ps$act = act(ps$dist, 2)\n",
    "ggplot(ps, aes(x = Var1, y = Var2, fill = act)) + geom_tile() + labs(title = 'Activation')"
   ]
  },
  {
   "cell_type": "markdown",
   "metadata": {},
   "source": [
    "# Getting our first model response\n",
    "Let's use the model, step by step."
   ]
  },
  {
   "cell_type": "code",
   "execution_count": 7,
   "metadata": {},
   "outputs": [
    {
     "data": {
      "text/html": [
       "<table>\n",
       "<caption>A matrix: 6 × 3 of type dbl</caption>\n",
       "<thead>\n",
       "\t<tr><th></th><th scope=col>truecat</th><th scope=col>p1</th><th scope=col>sqerror</th></tr>\n",
       "</thead>\n",
       "<tbody>\n",
       "\t<tr><th scope=row>1</th><td>0</td><td>0.1873898</td><td>0.03511495</td></tr>\n",
       "\t<tr><th scope=row>2</th><td>0</td><td>0.2314752</td><td>0.05358078</td></tr>\n",
       "\t<tr><th scope=row>3</th><td>0</td><td>0.2314752</td><td>0.05358078</td></tr>\n",
       "\t<tr><th scope=row>6</th><td>1</td><td>0.7685248</td><td>0.05358078</td></tr>\n",
       "\t<tr><th scope=row>7</th><td>1</td><td>0.7685248</td><td>0.05358078</td></tr>\n",
       "\t<tr><th scope=row>8</th><td>1</td><td>0.8126102</td><td>0.03511495</td></tr>\n",
       "</tbody>\n",
       "</table>\n"
      ],
      "text/latex": [
       "A matrix: 6 × 3 of type dbl\n",
       "\\begin{tabular}{r|lll}\n",
       "  & truecat & p1 & sqerror\\\\\n",
       "\\hline\n",
       "\t1 & 0 & 0.1873898 & 0.03511495\\\\\n",
       "\t2 & 0 & 0.2314752 & 0.05358078\\\\\n",
       "\t3 & 0 & 0.2314752 & 0.05358078\\\\\n",
       "\t6 & 1 & 0.7685248 & 0.05358078\\\\\n",
       "\t7 & 1 & 0.7685248 & 0.05358078\\\\\n",
       "\t8 & 1 & 0.8126102 & 0.03511495\\\\\n",
       "\\end{tabular}\n"
      ],
      "text/markdown": [
       "\n",
       "A matrix: 6 × 3 of type dbl\n",
       "\n",
       "| <!--/--> | truecat | p1 | sqerror |\n",
       "|---|---|---|---|\n",
       "| 1 | 0 | 0.1873898 | 0.03511495 |\n",
       "| 2 | 0 | 0.2314752 | 0.05358078 |\n",
       "| 3 | 0 | 0.2314752 | 0.05358078 |\n",
       "| 6 | 1 | 0.7685248 | 0.05358078 |\n",
       "| 7 | 1 | 0.7685248 | 0.05358078 |\n",
       "| 8 | 1 | 0.8126102 | 0.03511495 |\n",
       "\n"
      ],
      "text/plain": [
       "  truecat p1        sqerror   \n",
       "1 0       0.1873898 0.03511495\n",
       "2 0       0.2314752 0.05358078\n",
       "3 0       0.2314752 0.05358078\n",
       "6 1       0.7685248 0.05358078\n",
       "7 1       0.7685248 0.05358078\n",
       "8 1       0.8126102 0.03511495"
      ]
     },
     "metadata": {},
     "output_type": "display_data"
    }
   ],
   "source": [
    "#Generate model's responses for the training stimuli\n",
    "#Define parameters\n",
    "temp = 2\n",
    "sens = 1\n",
    "p = 1\n",
    "aw = c(.2, .2, .6)\n",
    "\n",
    "#distance matrix\n",
    "dist_mat = apply(stims[, 1:3], 1, function(x) apply(stims[, 1:3], 1, function(y) minkdist(x, y, w = aw, p = p)))\n",
    "\n",
    "#activations\n",
    "act_mat = apply(dist_mat, 1, function(x) act(x, sens))\n",
    "\n",
    "#probabilities\n",
    "p1 = apply(act_mat, 1, function(x) catresp(x, stims$cat, temp))\n",
    "\n",
    "#Here are the model responses\n",
    "cbind(truecat = stims$cat, p1, sqerror = (stims$cat-p1)^2)"
   ]
  },
  {
   "cell_type": "markdown",
   "metadata": {},
   "source": [
    "So, the model goes through three steps every time a stimulus is shown. First, calculate the distance between what you see, and what you have stored in memory. Then, activate memory. Finally, pool activations to generate a categorical response (i.e. reporting a stimulus as a member of one category, or the other).\n",
    "\n",
    "Let's create a wrapper function to do all of that with a single call, so we can move to parameter retrieval."
   ]
  },
  {
   "cell_type": "code",
   "execution_count": 8,
   "metadata": {},
   "outputs": [],
   "source": [
    "gcm_wrap = function(pars, qs, ms){\n",
    "  dist_mat = apply(qs[, 1:3], 1, function(x) apply(ms[, 1:3], 1, function(y) minkdist(x, y, w = pars$aw, p = pars$p)))\n",
    "  act_mat = apply(dist_mat, 1, function(x) act(x, pars$sens))\n",
    "  p1 = apply(act_mat, 1, function(x) catresp(x, ms$cat, pars$temp))\n",
    "  return(p1)\n",
    "}"
   ]
  },
  {
   "cell_type": "markdown",
   "metadata": {},
   "source": [
    "Were pars is a list of parameters, qs are the queried stimuli, and ms are the stimuli stored in memory."
   ]
  },
  {
   "cell_type": "code",
   "execution_count": 9,
   "metadata": {},
   "outputs": [
    {
     "data": {
      "text/html": [
       "<style>\n",
       ".dl-inline {width: auto; margin:0; padding: 0}\n",
       ".dl-inline>dt, .dl-inline>dd {float: none; width: auto; display: inline-block}\n",
       ".dl-inline>dt::after {content: \":\\0020\"; padding-right: .5ex}\n",
       ".dl-inline>dt:not(:first-of-type) {padding-left: .5ex}\n",
       "</style><dl class=dl-inline><dt>1</dt><dd>0.187389827542526</dd><dt>2</dt><dd>0.231475216500982</dd><dt>3</dt><dd>0.231475216500982</dd><dt>6</dt><dd>0.768524783499018</dd></dl>\n"
      ],
      "text/latex": [
       "\\begin{description*}\n",
       "\\item[1] 0.187389827542526\n",
       "\\item[2] 0.231475216500982\n",
       "\\item[3] 0.231475216500982\n",
       "\\item[6] 0.768524783499018\n",
       "\\end{description*}\n"
      ],
      "text/markdown": [
       "1\n",
       ":   0.1873898275425262\n",
       ":   0.2314752165009823\n",
       ":   0.2314752165009826\n",
       ":   0.768524783499018\n",
       "\n"
      ],
      "text/plain": [
       "        1         2         3         6 \n",
       "0.1873898 0.2314752 0.2314752 0.7685248 "
      ]
     },
     "metadata": {},
     "output_type": "display_data"
    },
    {
     "data": {
      "text/html": [
       "<style>\n",
       ".dl-inline {width: auto; margin:0; padding: 0}\n",
       ".dl-inline>dt, .dl-inline>dd {float: none; width: auto; display: inline-block}\n",
       ".dl-inline>dt::after {content: \":\\0020\"; padding-right: .5ex}\n",
       ".dl-inline>dt:not(:first-of-type) {padding-left: .5ex}\n",
       "</style><dl class=dl-inline><dt>1</dt><dd>0.104019576531037</dd><dt>2</dt><dd>0.119437008359252</dd><dt>3</dt><dd>0.119437008359252</dd><dt>6</dt><dd>0.599222756595164</dd></dl>\n"
      ],
      "text/latex": [
       "\\begin{description*}\n",
       "\\item[1] 0.104019576531037\n",
       "\\item[2] 0.119437008359252\n",
       "\\item[3] 0.119437008359252\n",
       "\\item[6] 0.599222756595164\n",
       "\\end{description*}\n"
      ],
      "text/markdown": [
       "1\n",
       ":   0.1040195765310372\n",
       ":   0.1194370083592523\n",
       ":   0.1194370083592526\n",
       ":   0.599222756595164\n",
       "\n"
      ],
      "text/plain": [
       "        1         2         3         6 \n",
       "0.1040196 0.1194370 0.1194370 0.5992228 "
      ]
     },
     "metadata": {},
     "output_type": "display_data"
    }
   ],
   "source": [
    "params = list(temp = 2, sens = 1, p = 1, aw = c(.2, .2, .6))\n",
    "#wrapper usage\n",
    "gcm_wrap(params, stims[1:4, ], stims)\n",
    "#Notice how manipulating the exemplars in memory alters the responses\n",
    "gcm_wrap(params, stims[1:4, ], stims[1:5, ])"
   ]
  },
  {
   "cell_type": "markdown",
   "metadata": {},
   "source": [
    "# Parameter recovery\n",
    "Because we were interested in drawing inferences about the attentional profiles of pigeons and humans, we needed to recover attentional weights from their response data. In order to do that, we need a loss-function that tells us how wrong our model responses are, and a way to optimize it. Let's begin by adding a loss-function to our wrapper."
   ]
  },
  {
   "cell_type": "code",
   "execution_count": 10,
   "metadata": {},
   "outputs": [
    {
     "data": {
      "text/html": [
       "0"
      ],
      "text/latex": [
       "0"
      ],
      "text/markdown": [
       "0"
      ],
      "text/plain": [
       "[1] 0"
      ]
     },
     "metadata": {},
     "output_type": "display_data"
    },
    {
     "data": {
      "text/html": [
       "0.00722593849697333"
      ],
      "text/latex": [
       "0.00722593849697333"
      ],
      "text/markdown": [
       "0.00722593849697333"
      ],
      "text/plain": [
       "[1] 0.007225938"
      ]
     },
     "metadata": {},
     "output_type": "display_data"
    }
   ],
   "source": [
    "#First, create a vector of probabilities\n",
    "realPs = gcm_wrap(params, stims, stims)\n",
    "#Create a wrapper to optimize only the attentional weights; Note how a lot of things are being defined at this time. Careful!\n",
    "opt_wrap = function(p, fixedpars, responses){\n",
    "  fixedpars$aw = p\n",
    "  modP = gcm_wrap(fixedpars, stims, stims)\n",
    "  return(sum((modP-responses)^2)) #Returns the sum of squared error by default, but the likelihood function (and -loglik) is a better choice\n",
    "}\n",
    "#quick test\n",
    "opt_wrap(params$aw, params, realPs) #the sum of squared error of a model against itself is 0.\n",
    "opt_wrap(c(.2, .3, .5), params, realPs) #some error"
   ]
  },
  {
   "cell_type": "markdown",
   "metadata": {},
   "source": [
    "For the paper, I used a projection function for the attentional weights, constraining their sums to 1. The implementation of this is not trivial, and can have major consequences during numerical optimization. Fortunately, the BB package allows for the use of projection functions."
   ]
  },
  {
   "cell_type": "code",
   "execution_count": 11,
   "metadata": {},
   "outputs": [
    {
     "name": "stderr",
     "output_type": "stream",
     "text": [
      "Warning message:\n",
      "\"package 'BB' was built under R version 3.6.3\"\n"
     ]
    },
    {
     "name": "stdout",
     "output_type": "stream",
     "text": [
      "iter:  0  f-value:  0.09811652  pgrad:  0.08336469 \n",
      "iter:  10  f-value:  0.001244458  pgrad:  0.0003383161 \n"
     ]
    },
    {
     "data": {
      "text/html": [
       "<style>\n",
       ".list-inline {list-style: none; margin:0; padding: 0}\n",
       ".list-inline>li {display: inline-block}\n",
       ".list-inline>li:not(:last-child)::after {content: \"\\00b7\"; padding: 0 .5ex}\n",
       "</style>\n",
       "<ol class=list-inline><li>0.222110313268607</li><li>0.222110313268607</li><li>0.555779373462787</li></ol>\n"
      ],
      "text/latex": [
       "\\begin{enumerate*}\n",
       "\\item 0.222110313268607\n",
       "\\item 0.222110313268607\n",
       "\\item 0.555779373462787\n",
       "\\end{enumerate*}\n"
      ],
      "text/markdown": [
       "1. 0.222110313268607\n",
       "2. 0.222110313268607\n",
       "3. 0.555779373462787\n",
       "\n",
       "\n"
      ],
      "text/plain": [
       "[1] 0.2221103 0.2221103 0.5557794"
      ]
     },
     "metadata": {},
     "output_type": "display_data"
    }
   ],
   "source": [
    "#Define the projection function\n",
    "projWeights = function(p){\n",
    "  return(p/sum(p))\n",
    "}\n",
    "#Fortunately, package BB allows us to use a projection function during optimization\n",
    "library(BB)\n",
    "opt = spg(rep(1, 3), function(x) opt_wrap(x, params, realPs), lower = rep(.Machine$double.xmin, 3), project = projWeights, control = list(eps = 1e-1))\n",
    "opt$par #Very close"
   ]
  },
  {
   "cell_type": "markdown",
   "metadata": {},
   "source": [
    "# A problem\n",
    "Of course, the mapping between the generative model and the measured data is rarely this good.\n",
    "Add some normal error to our probabilities and see if we can still retrieve the parameters that generated it. If you are running this in the live version of the notebook, it might take a while to finish.\n"
   ]
  },
  {
   "cell_type": "code",
   "execution_count": 12,
   "metadata": {},
   "outputs": [
    {
     "name": "stdout",
     "output_type": "stream",
     "text": [
      "iter:  0  f-value:  0.1061592  pgrad:  0.1967577 \n",
      "iter:  10  f-value:  0.03012097  pgrad:  0.03190061 \n",
      "iter:  20  f-value:  0.01458793  pgrad:  0.03752492 \n",
      "iter:  30  f-value:  0.01579879  pgrad:  0.08614334 \n",
      "iter:  40  f-value:  0.01690843  pgrad:  1.492802 \n",
      "iter:  50  f-value:  0.01891996  pgrad:  0.1748456 \n",
      "iter:  60  f-value:  0.01487852  pgrad:  0.2642013 \n",
      "iter:  70  f-value:  0.01129035  pgrad:  0.9305099 \n",
      "iter:  80  f-value:  0.01694203  pgrad:  1.747289 \n",
      "iter:  90  f-value:  0.01644345  pgrad:  0.7091107 \n",
      "iter:  100  f-value:  0.01577003  pgrad:  3.478331 \n"
     ]
    },
    {
     "name": "stderr",
     "output_type": "stream",
     "text": [
      "Warning message in spg(rep(1, 3), function(x) opt_wrap(x, params, addNoise(realPs)), :\n",
      "\"Unsuccessful convergence.\"\n"
     ]
    },
    {
     "data": {
      "text/html": [
       "<style>\n",
       ".list-inline {list-style: none; margin:0; padding: 0}\n",
       ".list-inline>li {display: inline-block}\n",
       ".list-inline>li:not(:last-child)::after {content: \"\\00b7\"; padding: 0 .5ex}\n",
       "</style>\n",
       "<ol class=list-inline><li>0.429847348810132</li><li>0.0829785461393644</li><li>0.487174105050504</li></ol>\n"
      ],
      "text/latex": [
       "\\begin{enumerate*}\n",
       "\\item 0.429847348810132\n",
       "\\item 0.0829785461393644\n",
       "\\item 0.487174105050504\n",
       "\\end{enumerate*}\n"
      ],
      "text/markdown": [
       "1. 0.429847348810132\n",
       "2. 0.0829785461393644\n",
       "3. 0.487174105050504\n",
       "\n",
       "\n"
      ],
      "text/plain": [
       "[1] 0.42984735 0.08297855 0.48717411"
      ]
     },
     "metadata": {},
     "output_type": "display_data"
    },
    {
     "data": {
      "image/png": "[encoded data removed]",
      "text/plain": [
       "Plot with title \"Noise introduced\""
      ]
     },
     "metadata": {
      "image/png": {
       "height": 420,
       "width": 420
      }
     },
     "output_type": "display_data"
    }
   ],
   "source": [
    "addNoise = function(p, fact = .3){ #convenience function\n",
    "  return(1/(1+exp(-log(p/(1-p))+rnorm(length(p))*fact)))\n",
    "}\n",
    "\n",
    "#Look at how much noise we are introducing\n",
    "boxplot(t(replicate(100, addNoise(realPs))), main = \"Noise introduced\") #seems fair\n",
    "\n",
    "#Just a little bit of noise makes parameter recovery innacurate, of course\n",
    "opt = spg(rep(1, 3), function(x) opt_wrap(x, params, addNoise(realPs)), lower = rep(.Machine$double.xmin, 3), upper = rep(1, 3), \n",
    "          project = projWeights, control = list(eps = 1e-1, maxit = 100))\n",
    "opt$par #ugh"
   ]
  },
  {
   "cell_type": "markdown",
   "metadata": {},
   "source": [
    "Convergence is an issue, of course. Don't worry too much about it, however, as you can brute force your way into convergence in one way or another. What should be more worrisome is the fact that even a tiny bit of noisy can throw the optimizer on a loop. Let's fight it with more iterations."
   ]
  },
  {
   "cell_type": "code",
   "execution_count": 13,
   "metadata": {},
   "outputs": [
    {
     "data": {
      "text/html": [
       "<style>\n",
       ".list-inline {list-style: none; margin:0; padding: 0}\n",
       ".list-inline>li {display: inline-block}\n",
       ".list-inline>li:not(:last-child)::after {content: \"\\00b7\"; padding: 0 .5ex}\n",
       "</style>\n",
       "<ol class=list-inline><li>0.240125990313347</li><li>0.229149658586113</li><li>0.53072435110054</li></ol>\n"
      ],
      "text/latex": [
       "\\begin{enumerate*}\n",
       "\\item 0.240125990313347\n",
       "\\item 0.229149658586113\n",
       "\\item 0.53072435110054\n",
       "\\end{enumerate*}\n"
      ],
      "text/markdown": [
       "1. 0.240125990313347\n",
       "2. 0.229149658586113\n",
       "3. 0.53072435110054\n",
       "\n",
       "\n"
      ],
      "text/plain": [
       "[1] 0.2401260 0.2291497 0.5307244"
      ]
     },
     "metadata": {},
     "output_type": "display_data"
    },
    {
     "data": {
      "text/html": [
       "<style>\n",
       ".list-inline {list-style: none; margin:0; padding: 0}\n",
       ".list-inline>li {display: inline-block}\n",
       ".list-inline>li:not(:last-child)::after {content: \"\\00b7\"; padding: 0 .5ex}\n",
       "</style>\n",
       "<ol class=list-inline><li>0.243010800463161</li><li>0.246114100438658</li><li>0.53455748228867</li></ol>\n"
      ],
      "text/latex": [
       "\\begin{enumerate*}\n",
       "\\item 0.243010800463161\n",
       "\\item 0.246114100438658\n",
       "\\item 0.53455748228867\n",
       "\\end{enumerate*}\n"
      ],
      "text/markdown": [
       "1. 0.243010800463161\n",
       "2. 0.246114100438658\n",
       "3. 0.53455748228867\n",
       "\n",
       "\n"
      ],
      "text/plain": [
       "[1] 0.2430108 0.2461141 0.5345575"
      ]
     },
     "metadata": {},
     "output_type": "display_data"
    },
    {
     "data": {
      "image/png": "[encoded data removed]",
      "text/plain": [
       "plot without title"
      ]
     },
     "metadata": {
      "image/png": {
       "height": 420,
       "width": 420
      }
     },
     "output_type": "display_data"
    },
    {
     "data": {
      "image/png": "[encoded data removed]",
      "text/plain": [
       "Plot with title \"density.default(x = pars[, 3])\""
      ]
     },
     "metadata": {
      "image/png": {
       "height": 420,
       "width": 420
      }
     },
     "output_type": "display_data"
    }
   ],
   "source": [
    "#We can look at the parameters we recover over multiple iterations\n",
    "iter = 50\n",
    "pars = array(NA, c(iter, 3))\n",
    "for (i in 1:iter){\n",
    "  pars[i, ] = spg(rep(1, 3), function(x) opt_wrap(x, params, addNoise(realPs)), lower = rep(.Machine$double.xmin, 3), upper = rep(1, 3), \n",
    "                  project = projWeights, control = list(eps = 1e-1, maxit = 100), quiet = T, alertConvergence = F)$par\n",
    "} #takes a while to run; very slow implementation; mb\n",
    "boxplot(pars)\n",
    "colMeans(pars) #we're not THAT far away from the real parameters\n",
    "apply(pars, 2, median)\n",
    "#Take a look at the distributions\n",
    "op = par(mfrow = c(3, 1))\n",
    "plot(density(pars[, 1]), xlim = c(0, 1))\n",
    "abline(v = params$aw[1], lty = 'dashed')\n",
    "plot(density(pars[, 2]), xlim = c(0, 1))\n",
    "abline(v = params$aw[2], lty = 'dashed')\n",
    "plot(density(pars[, 3]), xlim = c(0, 1))\n",
    "abline(v = params$aw[3], lty = 'dashed')\n",
    "par(op)\n",
    "#biased!"
   ]
  },
  {
   "cell_type": "code",
   "execution_count": 14,
   "metadata": {},
   "outputs": [
    {
     "data": {
      "text/html": [
       "0.99911494297809"
      ],
      "text/latex": [
       "0.99911494297809"
      ],
      "text/markdown": [
       "0.99911494297809"
      ],
      "text/plain": [
       "[1] 0.9991149"
      ]
     },
     "metadata": {},
     "output_type": "display_data"
    },
    {
     "data": {
      "image/png": "[encoded data removed]",
      "text/plain": [
       "plot without title"
      ]
     },
     "metadata": {
      "image/png": {
       "height": 420,
       "width": 420
      }
     },
     "output_type": "display_data"
    }
   ],
   "source": [
    "#on average, the model produces pretty good fits\n",
    "avgModPs = colMeans(t(apply(pars, 1, function(x) gcm_wrap(list(temp = 2, sens = 1, p = 1, aw = x), stims, stims))))\n",
    "plot(realPs, avgModPs)\n",
    "cor(realPs, avgModPs)^2"
   ]
  },
  {
   "cell_type": "markdown",
   "metadata": {},
   "source": [
    "# The biggest problem\n",
    "Our participants (more often than not) are very good at the simple tasks we give them. This often results in them hitting a performance ceiling. Paremeter-recovery becomes much harder at that point."
   ]
  },
  {
   "cell_type": "code",
   "execution_count": 15,
   "metadata": {},
   "outputs": [
    {
     "data": {
      "text/html": [
       "<style>\n",
       ".dl-inline {width: auto; margin:0; padding: 0}\n",
       ".dl-inline>dt, .dl-inline>dd {float: none; width: auto; display: inline-block}\n",
       ".dl-inline>dt::after {content: \":\\0020\"; padding-right: .5ex}\n",
       ".dl-inline>dt:not(:first-of-type) {padding-left: .5ex}\n",
       "</style><dl class=dl-inline><dt>1</dt><dd>0.0120049881512856</dd><dt>2</dt><dd>0.0265969935768659</dd><dt>3</dt><dd>0.0265969935768659</dd><dt>6</dt><dd>0.973403006423134</dd><dt>7</dt><dd>0.973403006423134</dd><dt>8</dt><dd>0.987995011848714</dd></dl>\n"
      ],
      "text/latex": [
       "\\begin{description*}\n",
       "\\item[1] 0.0120049881512856\n",
       "\\item[2] 0.0265969935768659\n",
       "\\item[3] 0.0265969935768659\n",
       "\\item[6] 0.973403006423134\n",
       "\\item[7] 0.973403006423134\n",
       "\\item[8] 0.987995011848714\n",
       "\\end{description*}\n"
      ],
      "text/markdown": [
       "1\n",
       ":   0.01200498815128562\n",
       ":   0.02659699357686593\n",
       ":   0.02659699357686596\n",
       ":   0.9734030064231347\n",
       ":   0.9734030064231348\n",
       ":   0.987995011848714\n",
       "\n"
      ],
      "text/plain": [
       "         1          2          3          6          7          8 \n",
       "0.01200499 0.02659699 0.02659699 0.97340301 0.97340301 0.98799501 "
      ]
     },
     "metadata": {},
     "output_type": "display_data"
    },
    {
     "name": "stdout",
     "output_type": "stream",
     "text": [
      "iter:  0  f-value:  0.002615156  pgrad:  0.6757483 \n"
     ]
    },
    {
     "name": "stderr",
     "output_type": "stream",
     "text": [
      "Warning message in spg(rep(1, 3), function(x) opt_wrap(x, ceilPars, ceilPs), lower = rep(.Machine$double.xmin, :\n",
      "\"Unsuccessful convergence.\"\n"
     ]
    },
    {
     "data": {
      "text/html": [
       "<style>\n",
       ".list-inline {list-style: none; margin:0; padding: 0}\n",
       ".list-inline>li {display: inline-block}\n",
       ".list-inline>li:not(:last-child)::after {content: \"\\00b7\"; padding: 0 .5ex}\n",
       "</style>\n",
       "<ol class=list-inline><li>0.333333333333333</li><li>0.333333333333333</li><li>0.333333333333333</li></ol>\n"
      ],
      "text/latex": [
       "\\begin{enumerate*}\n",
       "\\item 0.333333333333333\n",
       "\\item 0.333333333333333\n",
       "\\item 0.333333333333333\n",
       "\\end{enumerate*}\n"
      ],
      "text/markdown": [
       "1. 0.333333333333333\n",
       "2. 0.333333333333333\n",
       "3. 0.333333333333333\n",
       "\n",
       "\n"
      ],
      "text/plain": [
       "[1] 0.3333333 0.3333333 0.3333333"
      ]
     },
     "metadata": {},
     "output_type": "display_data"
    }
   ],
   "source": [
    "#Manipulate sensitivity (emulates memorization)\n",
    "ceilPars = list(temp = 2, sens = 3, p = 1, aw = c(.2, .2, .6))\n",
    "ceilPs = gcm_wrap(ceilPars, stims, stims)\n",
    "ceilPs\n",
    "\n",
    "#Try to recover parameters\n",
    "opt = spg(rep(1, 3), function(x) opt_wrap(x, ceilPars, ceilPs), lower = rep(.Machine$double.xmin, 3), upper = rep(1, 3), \n",
    "          project = projWeights, control = list(eps = 1e-1))\n",
    "opt$par #sometimes, it won't even deviate from starting parameters\n"
   ]
  },
  {
   "cell_type": "markdown",
   "metadata": {},
   "source": [
    "# The solution is: more data!\n",
    "The problem arises from the fact that the cues are redundant; so there are many parameters that fit saturated choices.\n",
    "In the actual experiment, we tested participants by removed some cues from the stimuli, in order to observe the influence those cues had. Let's create them here."
   ]
  },
  {
   "cell_type": "code",
   "execution_count": 16,
   "metadata": {},
   "outputs": [],
   "source": [
    "noD = stims\n",
    "noD$Var3 = .5 #This removes the deterministic cue, which conveys perfect information\n",
    "noP1 = stims\n",
    "noP1$Var1 = .5 #This removes one of the probabilistic cues\n",
    "noP2 = stims\n",
    "noP2$Var2 = .5 #This removes the other\n",
    "testStims = rbind(noD, noP1, noP2)"
   ]
  },
  {
   "cell_type": "markdown",
   "metadata": {},
   "source": [
    "And let's see how the model fares with them"
   ]
  },
  {
   "cell_type": "code",
   "execution_count": 17,
   "metadata": {},
   "outputs": [
    {
     "data": {
      "text/html": [
       "<table>\n",
       "<caption>A data.frame: 18 × 5</caption>\n",
       "<thead>\n",
       "\t<tr><th></th><th scope=col>Var1</th><th scope=col>Var2</th><th scope=col>Var3</th><th scope=col>cat</th><th scope=col>modelP</th></tr>\n",
       "\t<tr><th></th><th scope=col>&lt;dbl&gt;</th><th scope=col>&lt;dbl&gt;</th><th scope=col>&lt;dbl&gt;</th><th scope=col>&lt;int&gt;</th><th scope=col>&lt;dbl&gt;</th></tr>\n",
       "</thead>\n",
       "<tbody>\n",
       "\t<tr><th scope=row>1</th><td>0.0</td><td>0.0</td><td>0.5</td><td>0</td><td>0.30781477</td></tr>\n",
       "\t<tr><th scope=row>2</th><td>1.0</td><td>0.0</td><td>0.5</td><td>0</td><td>0.50000000</td></tr>\n",
       "\t<tr><th scope=row>3</th><td>0.0</td><td>1.0</td><td>0.5</td><td>0</td><td>0.50000000</td></tr>\n",
       "\t<tr><th scope=row>6</th><td>1.0</td><td>0.0</td><td>0.5</td><td>1</td><td>0.50000000</td></tr>\n",
       "\t<tr><th scope=row>7</th><td>0.0</td><td>1.0</td><td>0.5</td><td>1</td><td>0.50000000</td></tr>\n",
       "\t<tr><th scope=row>8</th><td>1.0</td><td>1.0</td><td>0.5</td><td>1</td><td>0.69218523</td></tr>\n",
       "\t<tr><th scope=row>11</th><td>0.5</td><td>0.0</td><td>0.0</td><td>0</td><td>0.01817003</td></tr>\n",
       "\t<tr><th scope=row>21</th><td>0.5</td><td>0.0</td><td>0.0</td><td>0</td><td>0.01817003</td></tr>\n",
       "\t<tr><th scope=row>31</th><td>0.5</td><td>1.0</td><td>0.0</td><td>0</td><td>0.03877788</td></tr>\n",
       "\t<tr><th scope=row>61</th><td>0.5</td><td>0.0</td><td>1.0</td><td>1</td><td>0.96122212</td></tr>\n",
       "\t<tr><th scope=row>71</th><td>0.5</td><td>1.0</td><td>1.0</td><td>1</td><td>0.98182997</td></tr>\n",
       "\t<tr><th scope=row>81</th><td>0.5</td><td>1.0</td><td>1.0</td><td>1</td><td>0.98182997</td></tr>\n",
       "\t<tr><th scope=row>12</th><td>0.0</td><td>0.5</td><td>0.0</td><td>0</td><td>0.01817003</td></tr>\n",
       "\t<tr><th scope=row>22</th><td>1.0</td><td>0.5</td><td>0.0</td><td>0</td><td>0.03877788</td></tr>\n",
       "\t<tr><th scope=row>32</th><td>0.0</td><td>0.5</td><td>0.0</td><td>0</td><td>0.01817003</td></tr>\n",
       "\t<tr><th scope=row>62</th><td>1.0</td><td>0.5</td><td>1.0</td><td>1</td><td>0.98182997</td></tr>\n",
       "\t<tr><th scope=row>72</th><td>0.0</td><td>0.5</td><td>1.0</td><td>1</td><td>0.96122212</td></tr>\n",
       "\t<tr><th scope=row>82</th><td>1.0</td><td>0.5</td><td>1.0</td><td>1</td><td>0.98182997</td></tr>\n",
       "</tbody>\n",
       "</table>\n"
      ],
      "text/latex": [
       "A data.frame: 18 × 5\n",
       "\\begin{tabular}{r|lllll}\n",
       "  & Var1 & Var2 & Var3 & cat & modelP\\\\\n",
       "  & <dbl> & <dbl> & <dbl> & <int> & <dbl>\\\\\n",
       "\\hline\n",
       "\t1 & 0.0 & 0.0 & 0.5 & 0 & 0.30781477\\\\\n",
       "\t2 & 1.0 & 0.0 & 0.5 & 0 & 0.50000000\\\\\n",
       "\t3 & 0.0 & 1.0 & 0.5 & 0 & 0.50000000\\\\\n",
       "\t6 & 1.0 & 0.0 & 0.5 & 1 & 0.50000000\\\\\n",
       "\t7 & 0.0 & 1.0 & 0.5 & 1 & 0.50000000\\\\\n",
       "\t8 & 1.0 & 1.0 & 0.5 & 1 & 0.69218523\\\\\n",
       "\t11 & 0.5 & 0.0 & 0.0 & 0 & 0.01817003\\\\\n",
       "\t21 & 0.5 & 0.0 & 0.0 & 0 & 0.01817003\\\\\n",
       "\t31 & 0.5 & 1.0 & 0.0 & 0 & 0.03877788\\\\\n",
       "\t61 & 0.5 & 0.0 & 1.0 & 1 & 0.96122212\\\\\n",
       "\t71 & 0.5 & 1.0 & 1.0 & 1 & 0.98182997\\\\\n",
       "\t81 & 0.5 & 1.0 & 1.0 & 1 & 0.98182997\\\\\n",
       "\t12 & 0.0 & 0.5 & 0.0 & 0 & 0.01817003\\\\\n",
       "\t22 & 1.0 & 0.5 & 0.0 & 0 & 0.03877788\\\\\n",
       "\t32 & 0.0 & 0.5 & 0.0 & 0 & 0.01817003\\\\\n",
       "\t62 & 1.0 & 0.5 & 1.0 & 1 & 0.98182997\\\\\n",
       "\t72 & 0.0 & 0.5 & 1.0 & 1 & 0.96122212\\\\\n",
       "\t82 & 1.0 & 0.5 & 1.0 & 1 & 0.98182997\\\\\n",
       "\\end{tabular}\n"
      ],
      "text/markdown": [
       "\n",
       "A data.frame: 18 × 5\n",
       "\n",
       "| <!--/--> | Var1 &lt;dbl&gt; | Var2 &lt;dbl&gt; | Var3 &lt;dbl&gt; | cat &lt;int&gt; | modelP &lt;dbl&gt; |\n",
       "|---|---|---|---|---|---|\n",
       "| 1 | 0.0 | 0.0 | 0.5 | 0 | 0.30781477 |\n",
       "| 2 | 1.0 | 0.0 | 0.5 | 0 | 0.50000000 |\n",
       "| 3 | 0.0 | 1.0 | 0.5 | 0 | 0.50000000 |\n",
       "| 6 | 1.0 | 0.0 | 0.5 | 1 | 0.50000000 |\n",
       "| 7 | 0.0 | 1.0 | 0.5 | 1 | 0.50000000 |\n",
       "| 8 | 1.0 | 1.0 | 0.5 | 1 | 0.69218523 |\n",
       "| 11 | 0.5 | 0.0 | 0.0 | 0 | 0.01817003 |\n",
       "| 21 | 0.5 | 0.0 | 0.0 | 0 | 0.01817003 |\n",
       "| 31 | 0.5 | 1.0 | 0.0 | 0 | 0.03877788 |\n",
       "| 61 | 0.5 | 0.0 | 1.0 | 1 | 0.96122212 |\n",
       "| 71 | 0.5 | 1.0 | 1.0 | 1 | 0.98182997 |\n",
       "| 81 | 0.5 | 1.0 | 1.0 | 1 | 0.98182997 |\n",
       "| 12 | 0.0 | 0.5 | 0.0 | 0 | 0.01817003 |\n",
       "| 22 | 1.0 | 0.5 | 0.0 | 0 | 0.03877788 |\n",
       "| 32 | 0.0 | 0.5 | 0.0 | 0 | 0.01817003 |\n",
       "| 62 | 1.0 | 0.5 | 1.0 | 1 | 0.98182997 |\n",
       "| 72 | 0.0 | 0.5 | 1.0 | 1 | 0.96122212 |\n",
       "| 82 | 1.0 | 0.5 | 1.0 | 1 | 0.98182997 |\n",
       "\n"
      ],
      "text/plain": [
       "   Var1 Var2 Var3 cat modelP    \n",
       "1  0.0  0.0  0.5  0   0.30781477\n",
       "2  1.0  0.0  0.5  0   0.50000000\n",
       "3  0.0  1.0  0.5  0   0.50000000\n",
       "6  1.0  0.0  0.5  1   0.50000000\n",
       "7  0.0  1.0  0.5  1   0.50000000\n",
       "8  1.0  1.0  0.5  1   0.69218523\n",
       "11 0.5  0.0  0.0  0   0.01817003\n",
       "21 0.5  0.0  0.0  0   0.01817003\n",
       "31 0.5  1.0  0.0  0   0.03877788\n",
       "61 0.5  0.0  1.0  1   0.96122212\n",
       "71 0.5  1.0  1.0  1   0.98182997\n",
       "81 0.5  1.0  1.0  1   0.98182997\n",
       "12 0.0  0.5  0.0  0   0.01817003\n",
       "22 1.0  0.5  0.0  0   0.03877788\n",
       "32 0.0  0.5  0.0  0   0.01817003\n",
       "62 1.0  0.5  1.0  1   0.98182997\n",
       "72 0.0  0.5  1.0  1   0.96122212\n",
       "82 1.0  0.5  1.0  1   0.98182997"
      ]
     },
     "metadata": {},
     "output_type": "display_data"
    }
   ],
   "source": [
    "testPs = gcm_wrap(ceilPars, testStims, stims)\n",
    "cbind(testStims, modelP = testPs) #Note how the model is close to chance during noD trials (first 6 probabilities). \n",
    "#We specified weights that make the model rely on the deterministic cue."
   ]
  },
  {
   "cell_type": "markdown",
   "metadata": {},
   "source": [
    "Let's repeat our parameter-recovery excercise using these new data."
   ]
  },
  {
   "cell_type": "code",
   "execution_count": 18,
   "metadata": {},
   "outputs": [],
   "source": [
    "#redefine our wrapper to include the new stimuli\n",
    "test_wrap = function(p, fixedpars, responses){\n",
    "  fixedpars$aw = p\n",
    "  modP = gcm_wrap(fixedpars, testStims, stims)\n",
    "  return(sum((modP-responses)^2))\n",
    "}\n",
    "iter = 50\n",
    "pars = array(NA, c(iter, 3))\n",
    "for (i in 1:iter){\n",
    "  pars[i, ] = spg(rep(1, 3), function(x) test_wrap(x, ceilPars, addNoise(testPs)), lower = rep(.Machine$double.xmin, 3), upper = rep(1, 3), \n",
    "                  project = projWeights, control = list(eps = 1e-1, maxit = 100), quiet = T, alertConvergence = F)$par\n",
    "} #takes a very long time to run; sorry!\n"
   ]
  },
  {
   "cell_type": "code",
   "execution_count": 19,
   "metadata": {},
   "outputs": [
    {
     "data": {
      "text/html": [
       "<style>\n",
       ".list-inline {list-style: none; margin:0; padding: 0}\n",
       ".list-inline>li {display: inline-block}\n",
       ".list-inline>li:not(:last-child)::after {content: \"\\00b7\"; padding: 0 .5ex}\n",
       "</style>\n",
       "<ol class=list-inline><li>0.183275133140382</li><li>0.202988674574096</li><li>0.613736192285522</li></ol>\n"
      ],
      "text/latex": [
       "\\begin{enumerate*}\n",
       "\\item 0.183275133140382\n",
       "\\item 0.202988674574096\n",
       "\\item 0.613736192285522\n",
       "\\end{enumerate*}\n"
      ],
      "text/markdown": [
       "1. 0.183275133140382\n",
       "2. 0.202988674574096\n",
       "3. 0.613736192285522\n",
       "\n",
       "\n"
      ],
      "text/plain": [
       "[1] 0.1832751 0.2029887 0.6137362"
      ]
     },
     "metadata": {},
     "output_type": "display_data"
    },
    {
     "data": {
      "image/png": "[encoded data removed]",
      "text/plain": [
       "plot without title"
      ]
     },
     "metadata": {
      "image/png": {
       "height": 420,
       "width": 420
      }
     },
     "output_type": "display_data"
    },
    {
     "data": {
      "image/png": "[encoded data removed]",
      "text/plain": [
       "Plot with title \"density.default(x = pars[, 3])\""
      ]
     },
     "metadata": {
      "image/png": {
       "height": 420,
       "width": 420
      }
     },
     "output_type": "display_data"
    },
    {
     "data": {
      "text/html": [
       "0.991751180313394"
      ],
      "text/latex": [
       "0.991751180313394"
      ],
      "text/markdown": [
       "0.991751180313394"
      ],
      "text/plain": [
       "[1] 0.9917512"
      ]
     },
     "metadata": {},
     "output_type": "display_data"
    },
    {
     "data": {
      "image/png": "[encoded data removed]",
      "text/plain": [
       "plot without title"
      ]
     },
     "metadata": {
      "image/png": {
       "height": 420,
       "width": 420
      }
     },
     "output_type": "display_data"
    }
   ],
   "source": [
    "#Let's see the results\n",
    "boxplot(pars)\n",
    "colMeans(pars) \n",
    "#Take a look at the distributions\n",
    "op = par(mfrow = c(3, 1))\n",
    "plot(density(pars[, 1]), xlim = c(0, 1))\n",
    "abline(v = params$aw[1], lty = 'dashed')\n",
    "plot(density(pars[, 2]), xlim = c(0, 1))\n",
    "abline(v = params$aw[2], lty = 'dashed')\n",
    "plot(density(pars[, 3]), xlim = c(0, 1))\n",
    "abline(v = params$aw[3], lty = 'dashed')\n",
    "par(op)\n",
    "\n",
    "#And the model fit\n",
    "avgModPs = colMeans(t(apply(pars, 1, function(x) gcm_wrap(list(temp = 2, sens = 1, p = 1, aw = x), testStims, stims))))\n",
    "plot(testPs, avgModPs)\n",
    "cor(testPs, avgModPs)^2\n"
   ]
  },
  {
   "cell_type": "markdown",
   "metadata": {},
   "source": [
    "A much better recovery, with nearly no bias."
   ]
  },
  {
   "cell_type": "markdown",
   "metadata": {},
   "source": [
    "# Take-home message\n",
    "The test data were critical in inferring the attentional profiles of our subjects. There is no modelling trick that can beat a well-designed experiment."
   ]
  }
 ],
 "metadata": {
  "kernelspec": {
   "display_name": "R",
   "language": "R",
   "name": "ir"
  },
  "language_info": {
   "codemirror_mode": "r",
   "file_extension": ".r",
   "mimetype": "text/x-r-source",
   "name": "R",
   "pygments_lexer": "r",
   "version": "3.6.2"
  }
 },
 "nbformat": 4,
 "nbformat_minor": 4
}
